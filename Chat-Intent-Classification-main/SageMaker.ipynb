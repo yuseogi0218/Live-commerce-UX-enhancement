{
 "cells": [
  {
   "cell_type": "markdown",
   "id": "c0b5f28f",
   "metadata": {},
   "source": [
    "## NoteBook"
   ]
  },
  {
   "cell_type": "code",
   "execution_count": null,
   "id": "99802bf3",
   "metadata": {},
   "outputs": [],
   "source": [
    "!pip install \"sagemaker>=2.48.0\" --upgrade"
   ]
  },
  {
   "cell_type": "code",
   "execution_count": null,
   "id": "04176b99",
   "metadata": {},
   "outputs": [],
   "source": [
    "import sagemaker\n",
    "import boto3\n",
    "\n",
    "try:\n",
    "    role = sagemaker.get_execution_role()\n",
    "except ValueError:\n",
    "    iam = boto3.client('iam')\n",
    "    role = iam.get_role(RoleName='sagemaker_execution_role')['Role']['Arn']"
   ]
  },
  {
   "cell_type": "code",
   "execution_count": null,
   "id": "7079b9a8",
   "metadata": {},
   "outputs": [],
   "source": [
    "from sagemaker.huggingface import HuggingFaceModel\n",
    "\n",
    "# Huggin Face Base 모델 로드\n",
    "classifier1_model = HuggingFaceModel(\n",
    "   model_data=\"s3://{버킷 이름}/classifier1.tar.gz\",  # 1번 의도 분류 모델 전체 채팅 -> (일반, (질문 & 요청))\n",
    "   role=role, # Endpoint 생성 권한이 있는 role\n",
    "   transformers_version=\"4.26\",\n",
    "   pytorch_version=\"1.13\",\n",
    "   py_version=\"py39\",\n",
    ")"
   ]
  },
  {
   "cell_type": "code",
   "execution_count": null,
   "id": "c27a3dd0",
   "metadata": {},
   "outputs": [],
   "source": [
    "# SageMaker 에 모델 배포\n",
    "classifier1 = classifier1_model.deploy(\n",
    "   initial_instance_count=1,\n",
    "   instance_type=\"ml.m5.xlarge\"\n",
    ")"
   ]
  },
  {
   "cell_type": "code",
   "execution_count": null,
   "id": "83336579",
   "metadata": {},
   "outputs": [],
   "source": [
    "# Huggin Face Base 모델 로드\n",
    "classifier2_model = HuggingFaceModel(\n",
    "   model_data=\"s3://{버킷 이름}/classifier2.tar.gz\",  # 2번 의도 분류 모델 (질문 & 요청) 채팅 -> 질문, 요청\n",
    "   role=role,\n",
    "   transformers_version=\"4.26\",\n",
    "   pytorch_version=\"1.13\",\n",
    "   py_version=\"py39\",\n",
    ")"
   ]
  },
  {
   "cell_type": "code",
   "execution_count": null,
   "id": "d591d208",
   "metadata": {},
   "outputs": [],
   "source": [
    "# SageMaker 에 모델 배포\n",
    "classifier2 = classifier2_model.deploy(\n",
    "   initial_instance_count=1,\n",
    "   instance_type=\"ml.m5.xlarge\"\n",
    ")"
   ]
  },
  {
   "cell_type": "markdown",
   "id": "c3b6b5fe",
   "metadata": {},
   "source": [
    "## Lambda"
   ]
  },
  {
   "cell_type": "code",
   "execution_count": null,
   "id": "09cc5865",
   "metadata": {},
   "outputs": [],
   "source": [
    "import json\n",
    "import boto3\n",
    "\n",
    "runtime = boto3.client(\"runtime.sagemaker\")\n",
    "# SageMaker Endpoint 이름\n",
    "classifier_1_endpoint_name  = \"huggingface-pytorch-inference-2023-08-29-01-43-00-324\"\n",
    "classifier_2_endpoint_name = \"huggingface-pytorch-inference-2023-08-29-01-45-33-676\"\n",
    "\n",
    "# API 요청 처리\n",
    "def lambda_handler(event, context):\n",
    "    chat_list = event[\"list\"]\n",
    "    \n",
    "    # 채팅 리스트\n",
    "    chat_message_list = [chat[\"message\"] for chat in chat_list]\n",
    "    \n",
    "    # 1번 분류 전체 채팅 -> (일반, (질문 & 요청))\n",
    "    classifier_1_payload = {\"inputs\" : chat_message_list}\n",
    "    \n",
    "    classifier_1_response = runtime.invoke_endpoint(\n",
    "                                    EndpointName=classifier_1_endpoint_name, \n",
    "                                    ContentType=\"application/json\", \n",
    "                                    Body=json.dumps(classifier_1_payload)\n",
    "                                )\n",
    "    \n",
    "    classifier_1_result_list = json.loads(classifier_1_response[\"Body\"].read().decode())\n",
    "    \n",
    "    # 결과 처리\n",
    "    result = dict()\n",
    "    result[\"chat_data\"] = list()\n",
    "    \n",
    "    for chat_idx in range(len(chat_list)):\n",
    "        \n",
    "        chat = chat_list[chat_idx]\n",
    "        \n",
    "        classifier_result = dict()\n",
    "        classifier_result[\"commentNo\"] = chat[\"commentNo\"]\n",
    "        classifier_result[\"nickname\"] = chat[\"nickname\"]\n",
    "        classifier_result[\"message\"] = chat[\"message\"]\n",
    "        \n",
    "        if classifier_1_result_list[chat_idx][\"label\"] == \"LABEL_0\":\n",
    "            classifier_result[\"result\"] = \"일반\"\n",
    "        else:\n",
    "            # 2번 분류 (질문 & 요청) 채팅 -> 질문, 요청\n",
    "            classifier_2_payload = {\"inputs\" : chat[\"message\"]}\n",
    "            \n",
    "            classifier_2_response = runtime.invoke_endpoint(\n",
    "                                    EndpointName=classifier_2_endpoint_name, \n",
    "                                    ContentType=\"application/json\", \n",
    "                                    Body=json.dumps(classifier_2_payload)\n",
    "                                )\n",
    "            \n",
    "            classifier_2_result = json.loads(classifier_2_response[\"Body\"].read().decode())[0]\n",
    "            \n",
    "            if classifier_2_result[\"label\"] == \"LABEL_0\":\n",
    "                classifier_result[\"result\"] = \"질문\"\n",
    "            else:\n",
    "                classifier_result[\"result\"] = \"요청\"\n",
    "    \n",
    "        \n",
    "        result[\"chat_data\"].append(classifier_result)\n",
    "    \n",
    "    return result"
   ]
  }
 ],
 "metadata": {
  "kernelspec": {
   "display_name": "Python 3 (ipykernel)",
   "language": "python",
   "name": "python3"
  },
  "language_info": {
   "codemirror_mode": {
    "name": "ipython",
    "version": 3
   },
   "file_extension": ".py",
   "mimetype": "text/x-python",
   "name": "python",
   "nbconvert_exporter": "python",
   "pygments_lexer": "ipython3",
   "version": "3.9.7"
  }
 },
 "nbformat": 4,
 "nbformat_minor": 5
}
